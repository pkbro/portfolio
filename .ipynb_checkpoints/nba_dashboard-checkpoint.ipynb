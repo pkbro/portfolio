{
 "cells": [
  {
   "cell_type": "code",
   "execution_count": 1,
   "metadata": {},
   "outputs": [],
   "source": [
    "import numpy as np\n",
    "import pandas as pd\n",
    "import seaborn as sns\n",
    "import matplotlib.pyplot as plt\n",
    "import plotly.plotly as py\n",
    "import plotly.graph_objs as go"
   ]
  },
  {
   "cell_type": "code",
   "execution_count": 161,
   "metadata": {},
   "outputs": [],
   "source": [
    "nba_data = pd.read_csv('NBA_player_of_the_week.csv')\n"
   ]
  },
  {
   "cell_type": "code",
   "execution_count": 3,
   "metadata": {},
   "outputs": [
    {
     "data": {
      "text/plain": [
       "771"
      ]
     },
     "execution_count": 3,
     "metadata": {},
     "output_type": "execute_result"
    }
   ],
   "source": [
    "len(nba_data[nba_data['Conference'] == 'East'] | nba_data[nba_data['Conference'] == 'West'])"
   ]
  },
  {
   "cell_type": "code",
   "execution_count": 4,
   "metadata": {},
   "outputs": [
    {
     "data": {
      "text/plain": [
       "(771, 14)"
      ]
     },
     "execution_count": 4,
     "metadata": {},
     "output_type": "execute_result"
    }
   ],
   "source": [
    "nba_data = nba_data[nba_data['Conference'].isna() == False]\n",
    "nba_data.shape"
   ]
  },
  {
   "cell_type": "code",
   "execution_count": null,
   "metadata": {},
   "outputs": [],
   "source": []
  },
  {
   "cell_type": "code",
   "execution_count": 154,
   "metadata": {},
   "outputs": [],
   "source": [
    "nba_data['Position'] = nba_data['Position'].replace({'G-F': \"GF\", 'F-C': 'FC', 'G': 'PG', \"F\": 'SF' })"
   ]
  },
  {
   "cell_type": "code",
   "execution_count": 155,
   "metadata": {},
   "outputs": [],
   "source": [
    "nba_data['Date'] = pd.to_datetime(nba_data['Date'])"
   ]
  },
  {
   "cell_type": "code",
   "execution_count": 156,
   "metadata": {},
   "outputs": [],
   "source": [
    "pos_counts = nba_data.groupby('Conference')['Position'].value_counts()"
   ]
  },
  {
   "cell_type": "code",
   "execution_count": 157,
   "metadata": {},
   "outputs": [
    {
     "name": "stdout",
     "output_type": "stream",
     "text": [
      "dict_keys(['SF', 'PG', 'SG', 'C', 'GF', 'FC', 'PF'])\n"
     ]
    }
   ],
   "source": [
    "east_counts = dict(pos_counts['East'])\n",
    "west_counts = dict(pos_counts['West'])\n",
    "counts_east = list(east_counts.values())\n",
    "counts_west = list(west_counts.values())\n",
    "print(east_counts.keys())"
   ]
  },
  {
   "cell_type": "code",
   "execution_count": 158,
   "metadata": {},
   "outputs": [
    {
     "data": {
      "text/html": [
       "<iframe id=\"igraph\" scrolling=\"no\" style=\"border:none;\" seamless=\"seamless\" src=\"https://plot.ly/~pkbro/22.embed\" height=\"525px\" width=\"100%\"></iframe>"
      ],
      "text/plain": [
       "<plotly.tools.PlotlyDisplay object>"
      ]
     },
     "execution_count": 158,
     "metadata": {},
     "output_type": "execute_result"
    }
   ],
   "source": [
    "t1 = go.Bar(\n",
    "    x=list(east_counts.keys()),\n",
    "    y=counts_east,\n",
    "    name='Eastern Conference'\n",
    ")\n",
    "t2 = go.Bar(\n",
    "    x=list(west_counts.keys()),\n",
    "    y=counts_west,\n",
    "    name='Western Conference'\n",
    ")\n",
    "\n",
    "data = [t1,t2]\n",
    "layout = go.Layout(\n",
    "    barmode='group',\n",
    "    title='NBA Player of Week Count by Position (2002 - Current)',\n",
    "    xaxis=dict(\n",
    "        title=\"Position\"\n",
    "    ),\n",
    "    yaxis=dict(\n",
    "        title=\"Frequency\"\n",
    "              )\n",
    ")\n",
    "\n",
    "fig = go.Figure(data=data, layout=layout)\n",
    "py.iplot(fig, filename='grouped-bar')"
   ]
  },
  {
   "cell_type": "code",
   "execution_count": null,
   "metadata": {},
   "outputs": [],
   "source": []
  },
  {
   "cell_type": "code",
   "execution_count": 159,
   "metadata": {},
   "outputs": [],
   "source": [
    "\n",
    "\n",
    "west_nba = nba_data.copy()[nba_data['Conference'] == 'West']\n",
    "west_nba['Position'] = west_nba['Position'].replace({'G-F': \"GF\", 'F-C': 'FC', 'G': 'PG', \"F\": 'SF' })\n",
    "\n",
    "for x in west_nba['Position'].unique():\n",
    "    if x not in list(west_nba):\n",
    "        west_nba[x] = np.where(west_nba['Position']==x, 1,0)\n",
    "\n",
    "east_nba = nba_data.copy()[nba_data['Conference'] == 'East']\n",
    "east_nba['Position'] = east_nba['Position'].replace({'G-F': \"GF\", 'F-C': 'FC', 'G': 'PG', \"F\": 'SF' })\n",
    "for x in east_nba['Position'].unique():\n",
    "    if x not in list(east_nba):\n",
    "        east_nba[x] = np.where(east_nba['Position']==x, 1,0)\n",
    "\n",
    "west_nba.index = pd.to_datetime(west_nba['Date'])\n",
    "west_nba = west_nba.loc[:,'FC':'GF'].sort_index().cumsum()\n",
    "\n",
    "east_nba.index = pd.to_datetime(east_nba['Date'])\n",
    "east_nba = east_nba.loc[:,'SF':'PF'].sort_index().cumsum()\n"
   ]
  },
  {
   "cell_type": "code",
   "execution_count": 160,
   "metadata": {},
   "outputs": [
    {
     "data": {
      "text/html": [
       "<iframe id=\"igraph\" scrolling=\"no\" style=\"border:none;\" seamless=\"seamless\" src=\"https://plot.ly/~pkbro/26.embed\" height=\"525px\" width=\"100%\"></iframe>"
      ],
      "text/plain": [
       "<plotly.tools.PlotlyDisplay object>"
      ]
     },
     "execution_count": 160,
     "metadata": {},
     "output_type": "execute_result"
    }
   ],
   "source": [
    "#Western conference position count\n",
    "\n",
    "gf = go.Scatter(\n",
    "    x = west_nba.index,\n",
    "    y = west_nba.GF.values,\n",
    "    name = 'Guard/Forward'\n",
    ")\n",
    "\n",
    "fc = go.Scatter(\n",
    "    x = west_nba.index,\n",
    "    y = west_nba.FC.values,\n",
    "    name = 'Forward/Center'\n",
    ")\n",
    "\n",
    "pg = go.Scatter(\n",
    "    x = west_nba.index,\n",
    "    y = west_nba.PG.values,\n",
    "    name = 'Point Guard'\n",
    ")\n",
    "\n",
    "sf = go.Scatter(\n",
    "    x = west_nba.index,\n",
    "    y = west_nba.SF.values,\n",
    "    name = 'Small Forward'\n",
    ")\n",
    "\n",
    "c = go.Scatter(\n",
    "    x = west_nba.index,\n",
    "    y = west_nba.C.values,\n",
    "    name = 'Center'\n",
    ")\n",
    "\n",
    "pf = go.Scatter(\n",
    "    x = west_nba.index,\n",
    "    y = west_nba.PF.values,\n",
    "    name = 'Power Forward'\n",
    ")\n",
    "\n",
    "sg = go.Scatter(\n",
    "    x = west_nba.index,\n",
    "    y = west_nba.SG.values,\n",
    "    name = 'Shooting Guard'\n",
    ")\n",
    "\n",
    "layout = dict(title = 'Western Conference Player of Week Count By Position',\n",
    "              xaxis = dict(title = 'Year'),\n",
    "              yaxis = dict(title = 'Count'),\n",
    "        )\n",
    "\n",
    "\n",
    "data_pos = [gf,fc,pg,sf,c,pf,sg]\n",
    "fig = dict(data=data_pos, layout=layout)\n",
    "\n",
    "py.iplot(fig, filename='basic-line5')"
   ]
  },
  {
   "cell_type": "code",
   "execution_count": 141,
   "metadata": {},
   "outputs": [
    {
     "data": {
      "text/html": [
       "<iframe id=\"igraph\" scrolling=\"no\" style=\"border:none;\" seamless=\"seamless\" src=\"https://plot.ly/~pkbro/28.embed\" height=\"525px\" width=\"100%\"></iframe>"
      ],
      "text/plain": [
       "<plotly.tools.PlotlyDisplay object>"
      ]
     },
     "execution_count": 141,
     "metadata": {},
     "output_type": "execute_result"
    }
   ],
   "source": [
    "#Eastern conference position count\n",
    "\n",
    "gf = go.Scatter(\n",
    "    x = east_nba.index,\n",
    "    y = east_nba.GF.values,\n",
    "    name = 'Guard/Forward'\n",
    ")\n",
    "\n",
    "fc = go.Scatter(\n",
    "    x = east_nba.index,\n",
    "    y = east_nba.FC.values,\n",
    "    name = 'Forward/Center'\n",
    ")\n",
    "\n",
    "pg = go.Scatter(\n",
    "    x = east_nba.index,\n",
    "    y = east_nba.PG.values,\n",
    "    name = 'Point Guard'\n",
    ")\n",
    "\n",
    "sf = go.Scatter(\n",
    "    x = east_nba.index,\n",
    "    y = east_nba.SF.values,\n",
    "    name = 'Small Forward'\n",
    ")\n",
    "\n",
    "c = go.Scatter(\n",
    "    x = east_nba.index,\n",
    "    y = east_nba.C.values,\n",
    "    name = 'Center'\n",
    ")\n",
    "\n",
    "pf = go.Scatter(\n",
    "    x = east_nba.index,\n",
    "    y = east_nba.PF.values,\n",
    "    name = 'Power Forward'\n",
    ")\n",
    "\n",
    "sg = go.Scatter(\n",
    "    x = east_nba.index,\n",
    "    y = east_nba.SG.values,\n",
    "    name = 'Shooting Guard'\n",
    ")\n",
    "\n",
    "layout = dict(title = 'Eastern Conference Player of Week Count By Position',\n",
    "              xaxis = dict(title = 'Year'),\n",
    "              yaxis = dict(title = 'Count'),\n",
    "              )\n",
    "\n",
    "\n",
    "data_pos = [gf,fc,pg,sf,c,pf,sg]\n",
    "fig = dict(data=data_pos, layout=layout)\n",
    "\n",
    "py.iplot(fig, filename='basic-line6')"
   ]
  },
  {
   "cell_type": "code",
   "execution_count": 22,
   "metadata": {},
   "outputs": [],
   "source": [
    "\n"
   ]
  },
  {
   "cell_type": "code",
   "execution_count": 150,
   "metadata": {},
   "outputs": [],
   "source": [
    "nba_data_copy = nba_data.copy()\n",
    "nba_data_copy['Date'] = pd.to_datetime(nba_data_copy['Date'])\n",
    "\n",
    "date_age = nba_data_copy['Age']\n",
    "date_age.index = nba_data_copy['Date']\n",
    "date_age = date_age.resample('M').mean().fillna(method='ffill')\n",
    "\n",
    "date_weight = nba_data_copy['Weight']\n",
    "date_weight.index = nba_data_copy['Date']\n",
    "date_weight = date_weight.resample('M').mean().fillna(method='ffill')\n",
    "\n",
    "date_height = nba_data_copy['Height'].str[0].astype(int) * 12 + nba_data_copy['Height'].str[-1].astype(int)\n",
    "date_height.index = nba_data_copy['Date']\n",
    "date_height = date_height.resample('M').mean().fillna(method='ffill')\n",
    "\n",
    "date_seasons = nba_data_copy['Seasons in league']\n",
    "date_seasons.index = nba_data_copy['Date']\n",
    "date_seasons = date_seasons.resample('M').mean().fillna(method='ffill')\n"
   ]
  },
  {
   "cell_type": "code",
   "execution_count": 151,
   "metadata": {},
   "outputs": [
    {
     "name": "stdout",
     "output_type": "stream",
     "text": [
      "High five! You successfully sent some data to your account on plotly. View your plot in your browser at https://plot.ly/~pkbro/0 or inside your plot.ly account where it is named 'basic-line'\n"
     ]
    },
    {
     "data": {
      "text/html": [
       "<iframe id=\"igraph\" scrolling=\"no\" style=\"border:none;\" seamless=\"seamless\" src=\"https://plot.ly/~pkbro/0.embed\" height=\"525px\" width=\"100%\"></iframe>"
      ],
      "text/plain": [
       "<plotly.tools.PlotlyDisplay object>"
      ]
     },
     "execution_count": 151,
     "metadata": {},
     "output_type": "execute_result"
    }
   ],
   "source": [
    "# Create a trace\n",
    "\n",
    "height_trace = go.Scatter(\n",
    "    x = date_height.index,\n",
    "    y = date_height.values,\n",
    "    name = 'Height',\n",
    "    line = dict(\n",
    "        color = ('rgb(30,180,200)'),\n",
    "        width = 4,\n",
    "    ) \n",
    ")\n",
    "\n",
    "weight_trace = go.Scatter(\n",
    "    x = date_weight.index,\n",
    "    y = date_weight.values,\n",
    "    name = 'Weight',\n",
    "    line = dict(\n",
    "        color = ('rgb(50,10,160)'),\n",
    "        width = 4,\n",
    "    ) \n",
    ")\n",
    "\n",
    "layout = dict(title = 'Average Height and Weight of Players of Week',\n",
    "              xaxis = dict(title = 'Year'),\n",
    "              yaxis = dict(title = 'Count'),\n",
    "              )\n",
    "\n",
    "ht_wt = [height_trace, weight_trace]\n",
    "fig = dict(data=ht_wt, layout=layout)\n",
    "py.iplot(fig, filename='basic-line')"
   ]
  },
  {
   "cell_type": "code",
   "execution_count": 148,
   "metadata": {},
   "outputs": [
    {
     "data": {
      "text/html": [
       "<iframe id=\"igraph\" scrolling=\"no\" style=\"border:none;\" seamless=\"seamless\" src=\"https://plot.ly/~pkbro/24.embed\" height=\"525px\" width=\"100%\"></iframe>"
      ],
      "text/plain": [
       "<plotly.tools.PlotlyDisplay object>"
      ]
     },
     "execution_count": 148,
     "metadata": {},
     "output_type": "execute_result"
    }
   ],
   "source": [
    "# Create a trace\n",
    "age_trace = go.Scatter(\n",
    "    x = date_age.index,\n",
    "    y = date_age.values,\n",
    "    name = 'Age',\n",
    "    line = dict(\n",
    "        color = ('rgb(231,107,243)'),\n",
    "        width = 4\n",
    "    ) \n",
    ")\n",
    "\n",
    "seasons_trace = go.Scatter(\n",
    "    x = date_seasons.index,\n",
    "    y = date_seasons.values,\n",
    "    name = 'Seasons',\n",
    "    line = dict(\n",
    "        color = ('rgb(0,100,80)'),\n",
    "        width = 4,\n",
    "    ) \n",
    ")\n",
    "age_season = [age_trace, seasons_trace]\n",
    "\n",
    "layout = dict(title = 'Average Age and Number of Seasons in League of Players of Week',\n",
    "              xaxis = dict(title = 'Year'),\n",
    "              yaxis = dict(title = 'Count'),\n",
    "              )\n",
    "\n",
    "\n",
    "fig = dict(data=age_season, layout=layout)\n",
    "\n",
    "py.iplot(fig, filename='basic-line2')"
   ]
  },
  {
   "cell_type": "code",
   "execution_count": null,
   "metadata": {},
   "outputs": [],
   "source": []
  }
 ],
 "metadata": {
  "kernelspec": {
   "display_name": "Python 3",
   "language": "python",
   "name": "python3"
  },
  "language_info": {
   "codemirror_mode": {
    "name": "ipython",
    "version": 3
   },
   "file_extension": ".py",
   "mimetype": "text/x-python",
   "name": "python",
   "nbconvert_exporter": "python",
   "pygments_lexer": "ipython3",
   "version": "3.6.6"
  }
 },
 "nbformat": 4,
 "nbformat_minor": 2
}
